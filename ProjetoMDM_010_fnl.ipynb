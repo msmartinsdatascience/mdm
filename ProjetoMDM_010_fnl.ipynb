{
  "nbformat": 4,
  "nbformat_minor": 0,
  "metadata": {
    "colab": {
      "provenance": [],
      "collapsed_sections": []
    },
    "kernelspec": {
      "name": "python3",
      "display_name": "Python 3"
    },
    "language_info": {
      "name": "python"
    }
  },
  "cells": [
    {
      "cell_type": "markdown",
      "source": [
        "### Projeto desenvolvido para comprimento de créditos no Mestrado PPCA/UNB\n",
        "### Disciplina: Mineração de Dados Massivos\n",
        "### Professor: Thiago de Paulo Faleiros"
      ],
      "metadata": {
        "id": "eV82wQJsUHJK"
      }
    },
    {
      "cell_type": "code",
      "execution_count": null,
      "metadata": {
        "id": "b-hzXoxY64gL"
      },
      "outputs": [],
      "source": [
        "import numpy as np\n",
        "import pandas as pd\n",
        "import matplotlib.pyplot as plt\n",
        "import math\n",
        "from sklearn.preprocessing import StandardScaler\n",
        "from sklearn.datasets import load_iris\n",
        "from sklearn.model_selection import train_test_split\n",
        "from sklearn import metrics\n",
        "import random\n",
        "import sys\n",
        "import time\n",
        "%matplotlib inline"
      ]
    },
    {
      "cell_type": "code",
      "source": [
        "X=np.array([[1,1,1, 1], [2,3,4,10], [8,5,4,2]])\n",
        "w=np.array([[3,-5, 9]])\n",
        "y=sum(X*w.T)\n",
        "print(X.T, y)\n",
        "X.shape"
      ],
      "metadata": {
        "colab": {
          "base_uri": "https://localhost:8080/"
        },
        "id": "I99BZJUI3cG7",
        "outputId": "e11039e5-cf92-495b-f377-46e0246672c5"
      },
      "execution_count": null,
      "outputs": [
        {
          "output_type": "stream",
          "name": "stdout",
          "text": [
            "[[ 1  2  8]\n",
            " [ 1  3  5]\n",
            " [ 1  4  4]\n",
            " [ 1 10  2]] [ 65  33  19 -29]\n"
          ]
        },
        {
          "output_type": "execute_result",
          "data": {
            "text/plain": [
              "(3, 4)"
            ]
          },
          "metadata": {},
          "execution_count": 18
        }
      ]
    },
    {
      "cell_type": "markdown",
      "source": [
        "## Algoritmo Gradiente Descendente (GD)"
      ],
      "metadata": {
        "id": "7gIpTAI9TxOC"
      }
    },
    {
      "cell_type": "code",
      "source": [
        "def gd(X, y, nr_epoch=20000, lr=0.001, tol=10**-6):\n",
        "  std=y.std()\n",
        "  s_erro=[]\n",
        "  p=X.shape[0] # número de variáveis\n",
        "  w=np.random.normal(0, std, size=(1,p))\n",
        "  for i in range(nr_epoch):\n",
        "    y_hat=sum(X*w.T) # calcula o valor da f no ponto\n",
        "    grad=X@(y_hat-y).T # calcula o gradiente de f no ponto\n",
        "    erro=sum(y_hat-y)**2/len(y)\n",
        "    s_erro.append(erro)\n",
        "    w=w-lr*grad\n",
        "    if i > 5 and abs(s_erro[i] - s_erro[i-5]) < tol:\n",
        "      print(\"Algoritmo convergiu, epoch {}, para as seguintes estimativas: \\n w: {}\".format(i, np.round(w[0],4)))\n",
        "      break\n",
        "    elif i%400==0:\n",
        "      print(\"epoch: {},   w: {},   erro: {}\".format(str(i).zfill(4),np.round(w[0],4), np.round(erro,4)))\n",
        "  return s_erro\n"
      ],
      "metadata": {
        "id": "CymSOMVs_fQI"
      },
      "execution_count": null,
      "outputs": []
    },
    {
      "cell_type": "markdown",
      "source": [
        "## Exemplo 1 - Regressão Linear Múltipla (Caso didático)"
      ],
      "metadata": {
        "id": "sxITdIssTY2b"
      }
    },
    {
      "cell_type": "code",
      "source": [
        "for i in range(1):\n",
        "  base_erro=gd(X, y, lr=0.01)"
      ],
      "metadata": {
        "colab": {
          "base_uri": "https://localhost:8080/"
        },
        "id": "tHq818NlmOxC",
        "outputId": "dc69915e-65d5-40f1-a2ca-f8a8f1fb5052"
      },
      "execution_count": null,
      "outputs": [
        {
          "output_type": "stream",
          "name": "stdout",
          "text": [
            "epoch: 0000,   w: [-11.3478 -66.2343  36.601 ],   erro: 323298.67\n",
            "epoch: 0400,   w: [-6.123  -4.2394 10.1235],   erro: 0.1205\n",
            "epoch: 0800,   w: [-3.7295 -4.4389  9.8287],   erro: 0.0656\n",
            "epoch: 1200,   w: [-1.964  -4.5861  9.6113],   erro: 0.0357\n",
            "epoch: 1600,   w: [-0.6616 -4.6947  9.4509],   erro: 0.0194\n",
            "epoch: 2000,   w: [ 0.299  -4.7748  9.3326],   erro: 0.0106\n",
            "epoch: 2400,   w: [ 1.0077 -4.8339  9.2454],   erro: 0.0057\n",
            "epoch: 2800,   w: [ 1.5304 -4.8775  9.181 ],   erro: 0.0031\n",
            "epoch: 3200,   w: [ 1.9159 -4.9096  9.1335],   erro: 0.0017\n",
            "epoch: 3600,   w: [ 2.2004 -4.9333  9.0985],   erro: 0.0009\n",
            "epoch: 4000,   w: [ 2.4101 -4.9508  9.0726],   erro: 0.0005\n",
            "epoch: 4400,   w: [ 2.5649 -4.9637  9.0536],   erro: 0.0003\n",
            "epoch: 4800,   w: [ 2.6791 -4.9732  9.0395],   erro: 0.0001\n",
            "Algoritmo convergiu, na epoch 4886, para as seguintes estimativas: \n",
            " w: [ 2.6994 -4.9749  9.037 ]\n"
          ]
        }
      ]
    },
    {
      "cell_type": "markdown",
      "source": [
        "## Decaimento do Erro (MSE)"
      ],
      "metadata": {
        "id": "uMfXIJGhTk-T"
      }
    },
    {
      "cell_type": "code",
      "source": [
        "font = {'family': 'serif',\n",
        "#        'color':  'darkred',\n",
        "        'color':  'blue',\n",
        "        'weight': 'normal',\n",
        "        'size': 12,\n",
        "        }\n",
        "plt.plot(base_erro[:80], 'b')\n",
        "plt.title('Decaimento do erro', fontdict=font)\n",
        "plt.xlabel('Época', fontdict=font)\n",
        "plt.ylabel('Erro', fontdict=font)\n",
        "\n",
        "# Tweak spacing to prevent clipping of ylabel\n",
        "plt.subplots_adjust(left=0.15)\n",
        "plt.show()"
      ],
      "metadata": {
        "colab": {
          "base_uri": "https://localhost:8080/",
          "height": 300
        },
        "id": "Hx-mkx624K5y",
        "outputId": "d4f0d564-bf21-411e-a81e-649603253edb"
      },
      "execution_count": null,
      "outputs": [
        {
          "output_type": "display_data",
          "data": {
            "text/plain": [
              "<Figure size 432x288 with 1 Axes>"
            ],
            "image/png": "[encoded data removed]"
          },
          "metadata": {
            "needs_background": "light"
          }
        }
      ]
    },
    {
      "cell_type": "markdown",
      "source": [
        "## Stochastic Gradiente Descendente - Regressão Linear"
      ],
      "metadata": {
        "id": "Rlv2dRu8zIbG"
      }
    },
    {
      "cell_type": "code",
      "source": [
        "def particionamento(dados, nr_part=None):\n",
        "  particao=[]\n",
        "  if nr_part==None:\n",
        "     nr_part=len(y)\n",
        "  for j in range(nr_part):\n",
        "    particao_crt = [tup[0] for tup in list(enumerate(y)) if tup[0] % nr_part==j]\n",
        "    particao.append(particao_crt)\n",
        "  return particao\n",
        "\n",
        "def sgd(X, y, nr_epoch, nr_part=None, lr=0.01, tol=0.0001):\n",
        "\n",
        "  std=y.std()\n",
        "  s_erro=[]\n",
        "  dados = np.c_[X,y]\n",
        "  p=X.shape[1] # número de variáveis\n",
        "  w=np.random.normal(0, std, size=(1,p))\n",
        "  particao=particionamento(y,nr_part)\n",
        "  iteracao=0\n",
        "  tt_iteracoes=nr_part*nr_epoch # total de iterações\n",
        "  flag=False\n",
        "  converg=0\n",
        "  for epoch in range(nr_epoch):\n",
        "    dados=np.random.permutation(dados) # permuta o conjunto\n",
        "    for id in range(len(particao)):\n",
        "      #print(\"particao:\", particao[id])\n",
        "      X_crt=dados[particao[id],:len(X[0])].T\n",
        "      y_crt=dados[particao[id],-1]\n",
        "      y_hat=np.sum(X_crt*w.T) # calcula o valor da f no ponto\n",
        "      grad=(1.0/len(y_crt))*(X_crt @ (y_hat-y_crt).T)\n",
        "      erro=sum(y_hat-y_crt)**2/len(y_crt)\n",
        "      s_erro.append(erro)\n",
        "      w=w-lr*grad\n",
        "      iteracao +=1\n",
        "#      if iteracao % int((nr_part*nr_epoch)/20)==0:\n",
        "#        print(\"iteracao: {}, w: {}, erro:  {}\".format(str(iteracao).zfill(5), np.round(w[0],4), np.round(erro,4)))\n",
        "      if iteracao >= tt_iteracoes:\n",
        "        print(\"*** Atenção: algoritmo não convergiu para os parâmetros de tolerância de learn-rate informados!\")\n",
        "        print(\"iteracao: {}, w: {}, erro:  {}\".format(str(iteracao).zfill(5), np.round(w[0],4), np.round(erro,4)))\n",
        "        converg=0\n",
        "        break\n",
        "      elif (iteracao > 10) and abs(erro - s_erro[iteracao-10]) < tol:\n",
        "        print(\"*** Sucesso: algoritmo convergiu, na iteração {}, para as seguintes estimativas: \\n {}\".format(iteracao, w[0]))\n",
        "        converg=1\n",
        "        return s_erro, w, converg\n",
        "#  end = time.time()\n",
        "#  print(end - start)\n",
        "  return s_erro, w, converg"
      ],
      "metadata": {
        "id": "ftjFSR3-0b6E"
      },
      "execution_count": null,
      "outputs": []
    },
    {
      "cell_type": "markdown",
      "source": [
        "## Exemplo 2 - Regressão Linear Múltipla"
      ],
      "metadata": {
        "id": "coAJqk24A5Fh"
      }
    },
    {
      "cell_type": "code",
      "source": [
        "nobs=400\n",
        "X0 = np.random.normal(0, 5, size=(nobs,4))\n",
        "X = np.c_[np.ones((nobs, 1)),X0] # add x0 = 1 to each instance\n",
        "w0=np.array([[3,-8.75, 12, -15, 52]])\n",
        "y=np.round(sum(X.T*w0.T),2)\n",
        "del w0\n",
        "resultado=[[],[], [],[], []]\n",
        "for i, qt_part in enumerate([int(nobs*(i/100)) for i in range(100,10,-5)]):\n",
        "  start = time.time()\n",
        "  base_erro, w, in_converg =sgd( X\n",
        "      ,y\n",
        "      , 1000 # numero de iteracoes\n",
        "      , qt_part  # numero de partições: None=n partições.\n",
        "      , 0.001 # learne-rate ou taxa de aprendizagem\n",
        "      , 10**-2 # tolerância\n",
        "      )\n",
        "  end = time.time()\n",
        "  print(\"-\"*100)\n",
        "  print(\"Número de partições:\", qt_part)\n",
        "  print(\"Erro de partida: {}, Erro Final: {}\".format(np.round(base_erro[0],4), np.round(base_erro[-1],4)))\n",
        "  print(\"Tempo decorrido: {}\".format(round(end - start,6)))\n",
        "  resultado[0].append(round(end - start,6))\n",
        "  resultado[1].append(qt_part)\n",
        "  resultado[2].append(np.round(base_erro[0],4)) # erro inicial\n",
        "  resultado[3].append(np.round(base_erro[-1],4)) # erro final\n",
        "  resultado[4].append(in_converg)\n",
        "print(resultado)"
      ],
      "metadata": {
        "colab": {
          "base_uri": "https://localhost:8080/"
        },
        "id": "iv_B2cmkGGZS",
        "outputId": "86269e07-086a-4ce3-cb21-0cdcadec4cbc"
      },
      "execution_count": null,
      "outputs": [
        {
          "output_type": "stream",
          "name": "stdout",
          "text": [
            "*** Sucesso: algoritmo convergiu, na iteração 3279, para as seguintes estimativas: \n",
            " [ -1.66487319  -8.61987415  12.18609035 -15.02811589  52.03751201]\n",
            "----------------------------------------------------------------------------------------------------\n",
            "Número de partições: 400\n",
            "Erro de partida: 11193203.2457, Erro Final: 32.1554\n",
            "Tempo decorrido: 0.116209\n",
            "*** Sucesso: algoritmo convergiu, na iteração 2811, para as seguintes estimativas: \n",
            " [  5.03320198  -8.8604056   12.2020355  -14.96311845  51.77028291]\n",
            "----------------------------------------------------------------------------------------------------\n",
            "Número de partições: 380\n",
            "Erro de partida: 38503830.8088, Erro Final: 0.0043\n",
            "Tempo decorrido: 0.109744\n",
            "*** Sucesso: algoritmo convergiu, na iteração 4534, para as seguintes estimativas: \n",
            " [ -0.78412697  -8.7948771   12.03547784 -14.90076991  51.92777788]\n",
            "----------------------------------------------------------------------------------------------------\n",
            "Número de partições: 360\n",
            "Erro de partida: 14217559.4114, Erro Final: 18.9721\n",
            "Tempo decorrido: 0.190228\n",
            "*** Sucesso: algoritmo convergiu, na iteração 4267, para as seguintes estimativas: \n",
            " [  3.10304543  -8.72537605  12.0778625  -15.16669627  51.83354704]\n",
            "----------------------------------------------------------------------------------------------------\n",
            "Número de partições: 340\n",
            "Erro de partida: 109320049.4461, Erro Final: 0.0137\n",
            "Tempo decorrido: 0.14742\n",
            "*** Sucesso: algoritmo convergiu, na iteração 3164, para as seguintes estimativas: \n",
            " [  4.01150072  -8.83078067  11.99591669 -15.00496427  52.01973604]\n",
            "----------------------------------------------------------------------------------------------------\n",
            "Número de partições: 320\n",
            "Erro de partida: 2202612.4165, Erro Final: 0.2362\n",
            "Tempo decorrido: 0.123066\n",
            "*** Sucesso: algoritmo convergiu, na iteração 2391, para as seguintes estimativas: \n",
            " [  3.66776049  -8.7250708   12.11669456 -15.05630278  51.97108569]\n",
            "----------------------------------------------------------------------------------------------------\n",
            "Número de partições: 300\n",
            "Erro de partida: 8208655.1633, Erro Final: 0.157\n",
            "Tempo decorrido: 0.111662\n",
            "*** Sucesso: algoritmo convergiu, na iteração 12790, para as seguintes estimativas: \n",
            " [ -0.29413348  -8.54064239  10.63893061 -15.02792214  52.41312019]\n",
            "----------------------------------------------------------------------------------------------------\n",
            "Número de partições: 280\n",
            "Erro de partida: 8987.1721, Erro Final: 0.4856\n",
            "Tempo decorrido: 0.784377\n",
            "*** Sucesso: algoritmo convergiu, na iteração 1557, para as seguintes estimativas: \n",
            " [ -3.24158521  -8.70773991  11.83441568 -14.51305257  51.69600742]\n",
            "----------------------------------------------------------------------------------------------------\n",
            "Número de partições: 260\n",
            "Erro de partida: 229740425.5168, Erro Final: 0.0551\n",
            "Tempo decorrido: 0.147652\n",
            "*** Sucesso: algoritmo convergiu, na iteração 3357, para as seguintes estimativas: \n",
            " [ -1.12957085  -9.94331848  12.25653994 -15.66476666  51.34788731]\n",
            "----------------------------------------------------------------------------------------------------\n",
            "Número de partições: 240\n",
            "Erro de partida: 983631.0677, Erro Final: 20.7869\n",
            "Tempo decorrido: 0.262464\n",
            "*** Sucesso: algoritmo convergiu, na iteração 20662, para as seguintes estimativas: \n",
            " [ -3.60084524  -8.22348023  15.45580509 -14.84949037  45.42704011]\n",
            "----------------------------------------------------------------------------------------------------\n",
            "Número de partições: 220\n",
            "Erro de partida: 21245832.5682, Erro Final: 18.9515\n",
            "Tempo decorrido: 1.547034\n",
            "*** Atenção: algoritmo não convergiu para os parâmetros de tolerância de learn-rate informados!\n",
            "iteracao: 200000, w: [ -0.2367  -4.366   11.1726 -25.2253  71.9006], erro:  35104.2127\n",
            "----------------------------------------------------------------------------------------------------\n",
            "Número de partições: 200\n",
            "Erro de partida: 134132821.1997, Erro Final: 35104.2127\n",
            "Tempo decorrido: 6.080308\n",
            "*** Atenção: algoritmo não convergiu para os parâmetros de tolerância de learn-rate informados!\n",
            "iteracao: 180000, w: [ -1.185   -8.317   10.5546 -18.8828  43.3293], erro:  87651.6858\n",
            "----------------------------------------------------------------------------------------------------\n",
            "Número de partições: 180\n",
            "Erro de partida: 50296726.1786, Erro Final: 87651.6858\n",
            "Tempo decorrido: 6.534291\n",
            "*** Atenção: algoritmo não convergiu para os parâmetros de tolerância de learn-rate informados!\n",
            "iteracao: 160000, w: [ -3.1753 -12.5597  17.6899 -11.995   54.0327], erro:  294293.0382\n",
            "----------------------------------------------------------------------------------------------------\n",
            "Número de partições: 160\n",
            "Erro de partida: 22851174.9146, Erro Final: 294293.0382\n",
            "Tempo decorrido: 5.086282\n",
            "*** Atenção: algoritmo não convergiu para os parâmetros de tolerância de learn-rate informados!\n",
            "iteracao: 140000, w: [ -5.9459 -19.0272   7.9272 -19.7448  46.5566], erro:  23463.4758\n",
            "----------------------------------------------------------------------------------------------------\n",
            "Número de partições: 140\n",
            "Erro de partida: 26659778.8093, Erro Final: 23463.4758\n",
            "Tempo decorrido: 4.308686\n",
            "*** Atenção: algoritmo não convergiu para os parâmetros de tolerância de learn-rate informados!\n",
            "iteracao: 120000, w: [ -6.7376  -5.584   20.0156 -29.6666  71.779 ], erro:  8773.9566\n",
            "----------------------------------------------------------------------------------------------------\n",
            "Número de partições: 120\n",
            "Erro de partida: 57850034.2612, Erro Final: 8773.9566\n",
            "Tempo decorrido: 3.805755\n",
            "*** Atenção: algoritmo não convergiu para os parâmetros de tolerância de learn-rate informados!\n",
            "iteracao: 100000, w: [ -6.1496 -19.2511   7.8455 -21.666   58.154 ], erro:  1092979.1947\n",
            "----------------------------------------------------------------------------------------------------\n",
            "Número de partições: 100\n",
            "Erro de partida: 180382696.131, Erro Final: 1092979.1947\n",
            "Tempo decorrido: 3.136139\n",
            "*** Atenção: algoritmo não convergiu para os parâmetros de tolerância de learn-rate informados!\n",
            "iteracao: 80000, w: [ -5.5706  -6.2733  12.0103 -20.7912  53.1823], erro:  1669632.0715\n",
            "----------------------------------------------------------------------------------------------------\n",
            "Número de partições: 80\n",
            "Erro de partida: 1378595764.5845, Erro Final: 1669632.0715\n",
            "Tempo decorrido: 2.554904\n",
            "*** Atenção: algoritmo não convergiu para os parâmetros de tolerância de learn-rate informados!\n",
            "iteracao: 60000, w: [ -3.9687  -2.2977  10.2372 -11.7445  43.1912], erro:  2419384.0156\n",
            "----------------------------------------------------------------------------------------------------\n",
            "Número de partições: 60\n",
            "Erro de partida: 1317197742.9863, Erro Final: 2419384.0156\n",
            "Tempo decorrido: 1.990327\n",
            "[[0.116209, 0.109744, 0.190228, 0.14742, 0.123066, 0.111662, 0.784377, 0.147652, 0.262464, 1.547034, 6.080308, 6.534291, 5.086282, 4.308686, 3.805755, 3.136139, 2.554904, 1.990327], [400, 380, 360, 340, 320, 300, 280, 260, 240, 220, 200, 180, 160, 140, 120, 100, 80, 60], [11193203.2457, 38503830.8088, 14217559.4114, 109320049.4461, 2202612.4165, 8208655.1633, 8987.1721, 229740425.5168, 983631.0677, 21245832.5682, 134132821.1997, 50296726.1786, 22851174.9146, 26659778.8093, 57850034.2612, 180382696.131, 1378595764.5845, 1317197742.9863], [32.1554, 0.0043, 18.9721, 0.0137, 0.2362, 0.157, 0.4856, 0.0551, 20.7869, 18.9515, 35104.2127, 87651.6858, 294293.0382, 23463.4758, 8773.9566, 1092979.1947, 1669632.0715, 2419384.0156], [1, 1, 1, 1, 1, 1, 1, 1, 1, 1, 0, 0, 0, 0, 0, 0, 0, 0]]\n"
          ]
        }
      ]
    },
    {
      "cell_type": "code",
      "source": [
        "font = {'family': 'serif',\n",
        "#        'color':  'darkred'\n",
        "        'color':  'blue',\n",
        "        'weight': 'normal',\n",
        "        'size': 12,\n",
        "        }\n",
        "plt.plot(base_erro[100:], 'k')\n",
        "plt.title('Decaimento do erro', fontdict=font)\n",
        "plt.xlabel('iteração', fontdict=font)\n",
        "plt.ylabel('Erro', fontdict=font)\n",
        "\n",
        "# Tweak spacing to prevent clipping of ylabel\n",
        "plt.subplots_adjust(left=0.15)\n",
        "plt.show()"
      ],
      "metadata": {
        "colab": {
          "base_uri": "https://localhost:8080/",
          "height": 298
        },
        "id": "EDS24QGwOhiT",
        "outputId": "ab0db396-ca2f-4921-ac1d-2c32703b5527"
      },
      "execution_count": null,
      "outputs": [
        {
          "output_type": "display_data",
          "data": {
            "text/plain": [
              "<Figure size 432x288 with 1 Axes>"
            ],
            "image/png": "[encoded data removed]"
          },
          "metadata": {
            "needs_background": "light"
          }
        }
      ]
    },
    {
      "cell_type": "code",
      "source": [
        "# cria dataset \n",
        "dicionario={'particoes':resultado[1]\n",
        "             ,'tempo':resultado[0]\n",
        "             ,'erro_inicial':resultado[2]\n",
        "             ,'erro_final':resultado[3]\n",
        "             ,'convergencia':resultado[4]\n",
        "             }\n",
        "df=pd.DataFrame(dicionario)\n",
        "df"
      ],
      "metadata": {
        "colab": {
          "base_uri": "https://localhost:8080/",
          "height": 614
        },
        "id": "jpJ9gCq-iQCV",
        "outputId": "85406150-a439-4252-8ab2-bfd4b71bb5ee"
      },
      "execution_count": null,
      "outputs": [
        {
          "output_type": "execute_result",
          "data": {
            "text/plain": [
              "    particoes     tempo  erro_inicial    erro_final  convergencia\n",
              "0         400  0.116209  1.119320e+07  3.215540e+01             1\n",
              "1         380  0.109744  3.850383e+07  4.300000e-03             1\n",
              "2         360  0.190228  1.421756e+07  1.897210e+01             1\n",
              "3         340  0.147420  1.093200e+08  1.370000e-02             1\n",
              "4         320  0.123066  2.202612e+06  2.362000e-01             1\n",
              "5         300  0.111662  8.208655e+06  1.570000e-01             1\n",
              "6         280  0.784377  8.987172e+03  4.856000e-01             1\n",
              "7         260  0.147652  2.297404e+08  5.510000e-02             1\n",
              "8         240  0.262464  9.836311e+05  2.078690e+01             1\n",
              "9         220  1.547034  2.124583e+07  1.895150e+01             1\n",
              "10        200  6.080308  1.341328e+08  3.510421e+04             0\n",
              "11        180  6.534291  5.029673e+07  8.765169e+04             0\n",
              "12        160  5.086282  2.285117e+07  2.942930e+05             0\n",
              "13        140  4.308686  2.665978e+07  2.346348e+04             0\n",
              "14        120  3.805755  5.785003e+07  8.773957e+03             0\n",
              "15        100  3.136139  1.803827e+08  1.092979e+06             0\n",
              "16         80  2.554904  1.378596e+09  1.669632e+06             0\n",
              "17         60  1.990327  1.317198e+09  2.419384e+06             0"
            ],
            "text/html": [
              "\n",
              "  <div id=\"df-e5da9168-0766-41ee-a54c-c25fb9eb895f\">\n",
              "    <div class=\"colab-df-container\">\n",
              "      <div>\n",
              "<style scoped>\n",
              "    .dataframe tbody tr th:only-of-type {\n",
              "        vertical-align: middle;\n",
              "    }\n",
              "\n",
              "    .dataframe tbody tr th {\n",
              "        vertical-align: top;\n",
              "    }\n",
              "\n",
              "    .dataframe thead th {\n",
              "        text-align: right;\n",
              "    }\n",
              "</style>\n",
              "<table border=\"1\" class=\"dataframe\">\n",
              "  <thead>\n",
              "    <tr style=\"text-align: right;\">\n",
              "      <th></th>\n",
              "      <th>particoes</th>\n",
              "      <th>tempo</th>\n",
              "      <th>erro_inicial</th>\n",
              "      <th>erro_final</th>\n",
              "      <th>convergencia</th>\n",
              "    </tr>\n",
              "  </thead>\n",
              "  <tbody>\n",
              "    <tr>\n",
              "      <th>0</th>\n",
              "      <td>400</td>\n",
              "      <td>0.116209</td>\n",
              "      <td>1.119320e+07</td>\n",
              "      <td>3.215540e+01</td>\n",
              "      <td>1</td>\n",
              "    </tr>\n",
              "    <tr>\n",
              "      <th>1</th>\n",
              "      <td>380</td>\n",
              "      <td>0.109744</td>\n",
              "      <td>3.850383e+07</td>\n",
              "      <td>4.300000e-03</td>\n",
              "      <td>1</td>\n",
              "    </tr>\n",
              "    <tr>\n",
              "      <th>2</th>\n",
              "      <td>360</td>\n",
              "      <td>0.190228</td>\n",
              "      <td>1.421756e+07</td>\n",
              "      <td>1.897210e+01</td>\n",
              "      <td>1</td>\n",
              "    </tr>\n",
              "    <tr>\n",
              "      <th>3</th>\n",
              "      <td>340</td>\n",
              "      <td>0.147420</td>\n",
              "      <td>1.093200e+08</td>\n",
              "      <td>1.370000e-02</td>\n",
              "      <td>1</td>\n",
              "    </tr>\n",
              "    <tr>\n",
              "      <th>4</th>\n",
              "      <td>320</td>\n",
              "      <td>0.123066</td>\n",
              "      <td>2.202612e+06</td>\n",
              "      <td>2.362000e-01</td>\n",
              "      <td>1</td>\n",
              "    </tr>\n",
              "    <tr>\n",
              "      <th>5</th>\n",
              "      <td>300</td>\n",
              "      <td>0.111662</td>\n",
              "      <td>8.208655e+06</td>\n",
              "      <td>1.570000e-01</td>\n",
              "      <td>1</td>\n",
              "    </tr>\n",
              "    <tr>\n",
              "      <th>6</th>\n",
              "      <td>280</td>\n",
              "      <td>0.784377</td>\n",
              "      <td>8.987172e+03</td>\n",
              "      <td>4.856000e-01</td>\n",
              "      <td>1</td>\n",
              "    </tr>\n",
              "    <tr>\n",
              "      <th>7</th>\n",
              "      <td>260</td>\n",
              "      <td>0.147652</td>\n",
              "      <td>2.297404e+08</td>\n",
              "      <td>5.510000e-02</td>\n",
              "      <td>1</td>\n",
              "    </tr>\n",
              "    <tr>\n",
              "      <th>8</th>\n",
              "      <td>240</td>\n",
              "      <td>0.262464</td>\n",
              "      <td>9.836311e+05</td>\n",
              "      <td>2.078690e+01</td>\n",
              "      <td>1</td>\n",
              "    </tr>\n",
              "    <tr>\n",
              "      <th>9</th>\n",
              "      <td>220</td>\n",
              "      <td>1.547034</td>\n",
              "      <td>2.124583e+07</td>\n",
              "      <td>1.895150e+01</td>\n",
              "      <td>1</td>\n",
              "    </tr>\n",
              "    <tr>\n",
              "      <th>10</th>\n",
              "      <td>200</td>\n",
              "      <td>6.080308</td>\n",
              "      <td>1.341328e+08</td>\n",
              "      <td>3.510421e+04</td>\n",
              "      <td>0</td>\n",
              "    </tr>\n",
              "    <tr>\n",
              "      <th>11</th>\n",
              "      <td>180</td>\n",
              "      <td>6.534291</td>\n",
              "      <td>5.029673e+07</td>\n",
              "      <td>8.765169e+04</td>\n",
              "      <td>0</td>\n",
              "    </tr>\n",
              "    <tr>\n",
              "      <th>12</th>\n",
              "      <td>160</td>\n",
              "      <td>5.086282</td>\n",
              "      <td>2.285117e+07</td>\n",
              "      <td>2.942930e+05</td>\n",
              "      <td>0</td>\n",
              "    </tr>\n",
              "    <tr>\n",
              "      <th>13</th>\n",
              "      <td>140</td>\n",
              "      <td>4.308686</td>\n",
              "      <td>2.665978e+07</td>\n",
              "      <td>2.346348e+04</td>\n",
              "      <td>0</td>\n",
              "    </tr>\n",
              "    <tr>\n",
              "      <th>14</th>\n",
              "      <td>120</td>\n",
              "      <td>3.805755</td>\n",
              "      <td>5.785003e+07</td>\n",
              "      <td>8.773957e+03</td>\n",
              "      <td>0</td>\n",
              "    </tr>\n",
              "    <tr>\n",
              "      <th>15</th>\n",
              "      <td>100</td>\n",
              "      <td>3.136139</td>\n",
              "      <td>1.803827e+08</td>\n",
              "      <td>1.092979e+06</td>\n",
              "      <td>0</td>\n",
              "    </tr>\n",
              "    <tr>\n",
              "      <th>16</th>\n",
              "      <td>80</td>\n",
              "      <td>2.554904</td>\n",
              "      <td>1.378596e+09</td>\n",
              "      <td>1.669632e+06</td>\n",
              "      <td>0</td>\n",
              "    </tr>\n",
              "    <tr>\n",
              "      <th>17</th>\n",
              "      <td>60</td>\n",
              "      <td>1.990327</td>\n",
              "      <td>1.317198e+09</td>\n",
              "      <td>2.419384e+06</td>\n",
              "      <td>0</td>\n",
              "    </tr>\n",
              "  </tbody>\n",
              "</table>\n",
              "</div>\n",
              "      <button class=\"colab-df-convert\" onclick=\"convertToInteractive('df-e5da9168-0766-41ee-a54c-c25fb9eb895f')\"\n",
              "              title=\"Convert this dataframe to an interactive table.\"\n",
              "              style=\"display:none;\">\n",
              "        \n",
              "  <svg xmlns=\"http://www.w3.org/2000/svg\" height=\"24px\"viewBox=\"0 0 24 24\"\n",
              "       width=\"24px\">\n",
              "    <path d=\"M0 0h24v24H0V0z\" fill=\"none\"/>\n",
              "    <path d=\"M18.56 5.44l.94 2.06.94-2.06 2.06-.94-2.06-.94-.94-2.06-.94 2.06-2.06.94zm-11 1L8.5 8.5l.94-2.06 2.06-.94-2.06-.94L8.5 2.5l-.94 2.06-2.06.94zm10 10l.94 2.06.94-2.06 2.06-.94-2.06-.94-.94-2.06-.94 2.06-2.06.94z\"/><path d=\"M17.41 7.96l-1.37-1.37c-.4-.4-.92-.59-1.43-.59-.52 0-1.04.2-1.43.59L10.3 9.45l-7.72 7.72c-.78.78-.78 2.05 0 2.83L4 21.41c.39.39.9.59 1.41.59.51 0 1.02-.2 1.41-.59l7.78-7.78 2.81-2.81c.8-.78.8-2.07 0-2.86zM5.41 20L4 18.59l7.72-7.72 1.47 1.35L5.41 20z\"/>\n",
              "  </svg>\n",
              "      </button>\n",
              "      \n",
              "  <style>\n",
              "    .colab-df-container {\n",
              "      display:flex;\n",
              "      flex-wrap:wrap;\n",
              "      gap: 12px;\n",
              "    }\n",
              "\n",
              "    .colab-df-convert {\n",
              "      background-color: #E8F0FE;\n",
              "      border: none;\n",
              "      border-radius: 50%;\n",
              "      cursor: pointer;\n",
              "      display: none;\n",
              "      fill: #1967D2;\n",
              "      height: 32px;\n",
              "      padding: 0 0 0 0;\n",
              "      width: 32px;\n",
              "    }\n",
              "\n",
              "    .colab-df-convert:hover {\n",
              "      background-color: #E2EBFA;\n",
              "      box-shadow: 0px 1px 2px rgba(60, 64, 67, 0.3), 0px 1px 3px 1px rgba(60, 64, 67, 0.15);\n",
              "      fill: #174EA6;\n",
              "    }\n",
              "\n",
              "    [theme=dark] .colab-df-convert {\n",
              "      background-color: #3B4455;\n",
              "      fill: #D2E3FC;\n",
              "    }\n",
              "\n",
              "    [theme=dark] .colab-df-convert:hover {\n",
              "      background-color: #434B5C;\n",
              "      box-shadow: 0px 1px 3px 1px rgba(0, 0, 0, 0.15);\n",
              "      filter: drop-shadow(0px 1px 2px rgba(0, 0, 0, 0.3));\n",
              "      fill: #FFFFFF;\n",
              "    }\n",
              "  </style>\n",
              "\n",
              "      <script>\n",
              "        const buttonEl =\n",
              "          document.querySelector('#df-e5da9168-0766-41ee-a54c-c25fb9eb895f button.colab-df-convert');\n",
              "        buttonEl.style.display =\n",
              "          google.colab.kernel.accessAllowed ? 'block' : 'none';\n",
              "\n",
              "        async function convertToInteractive(key) {\n",
              "          const element = document.querySelector('#df-e5da9168-0766-41ee-a54c-c25fb9eb895f');\n",
              "          const dataTable =\n",
              "            await google.colab.kernel.invokeFunction('convertToInteractive',\n",
              "                                                     [key], {});\n",
              "          if (!dataTable) return;\n",
              "\n",
              "          const docLinkHtml = 'Like what you see? Visit the ' +\n",
              "            '<a target=\"_blank\" href=https://colab.research.google.com/notebooks/data_table.ipynb>data table notebook</a>'\n",
              "            + ' to learn more about interactive tables.';\n",
              "          element.innerHTML = '';\n",
              "          dataTable['output_type'] = 'display_data';\n",
              "          await google.colab.output.renderOutput(dataTable, element);\n",
              "          const docLink = document.createElement('div');\n",
              "          docLink.innerHTML = docLinkHtml;\n",
              "          element.appendChild(docLink);\n",
              "        }\n",
              "      </script>\n",
              "    </div>\n",
              "  </div>\n",
              "  "
            ]
          },
          "metadata": {},
          "execution_count": 301
        }
      ]
    },
    {
      "cell_type": "markdown",
      "source": [
        "### Exportando resultados"
      ],
      "metadata": {
        "id": "lDt78U5BT-PK"
      }
    },
    {
      "cell_type": "code",
      "source": [
        "df.to_csv(\"resultado.csv\", index=False)\n",
        "from google.colab import files\n",
        "files.download('resultado.csv')"
      ],
      "metadata": {
        "colab": {
          "base_uri": "https://localhost:8080/",
          "height": 17
        },
        "id": "DkgHRr6ndwY9",
        "outputId": "9f4f95bc-15ab-419a-88cf-7beecb150dfe"
      },
      "execution_count": null,
      "outputs": [
        {
          "output_type": "display_data",
          "data": {
            "text/plain": [
              "<IPython.core.display.Javascript object>"
            ],
            "application/javascript": [
              "\n",
              "    async function download(id, filename, size) {\n",
              "      if (!google.colab.kernel.accessAllowed) {\n",
              "        return;\n",
              "      }\n",
              "      const div = document.createElement('div');\n",
              "      const label = document.createElement('label');\n",
              "      label.textContent = `Downloading \"${filename}\": `;\n",
              "      div.appendChild(label);\n",
              "      const progress = document.createElement('progress');\n",
              "      progress.max = size;\n",
              "      div.appendChild(progress);\n",
              "      document.body.appendChild(div);\n",
              "\n",
              "      const buffers = [];\n",
              "      let downloaded = 0;\n",
              "\n",
              "      const channel = await google.colab.kernel.comms.open(id);\n",
              "      // Send a message to notify the kernel that we're ready.\n",
              "      channel.send({})\n",
              "\n",
              "      for await (const message of channel.messages) {\n",
              "        // Send a message to notify the kernel that we're ready.\n",
              "        channel.send({})\n",
              "        if (message.buffers) {\n",
              "          for (const buffer of message.buffers) {\n",
              "            buffers.push(buffer);\n",
              "            downloaded += buffer.byteLength;\n",
              "            progress.value = downloaded;\n",
              "          }\n",
              "        }\n",
              "      }\n",
              "      const blob = new Blob(buffers, {type: 'application/binary'});\n",
              "      const a = document.createElement('a');\n",
              "      a.href = window.URL.createObjectURL(blob);\n",
              "      a.download = filename;\n",
              "      div.appendChild(a);\n",
              "      a.click();\n",
              "      div.remove();\n",
              "    }\n",
              "  "
            ]
          },
          "metadata": {}
        },
        {
          "output_type": "display_data",
          "data": {
            "text/plain": [
              "<IPython.core.display.Javascript object>"
            ],
            "application/javascript": [
              "download(\"download_d568c95a-1e78-4852-a574-13bc74277933\", \"resultado.csv\", 738)"
            ]
          },
          "metadata": {}
        }
      ]
    }
  ]
}